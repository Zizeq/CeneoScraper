{
 "cells": [
  {
   "cell_type": "markdown",
   "metadata": {},
   "source": [
    "### Imports\n"
   ]
  },
  {
   "cell_type": "code",
   "execution_count": 2,
   "metadata": {},
   "outputs": [],
   "source": [
    "import os\n",
    "import pandas as pd\n",
    "import numpy as np\n",
    "from matplotlib import pyplot as plt"
   ]
  },
  {
   "cell_type": "markdown",
   "metadata": {},
   "source": [
    "### Import from .json files"
   ]
  },
  {
   "cell_type": "code",
   "execution_count": 3,
   "metadata": {},
   "outputs": [
    {
     "name": "stdout",
     "output_type": "stream",
     "text": [
      "116728514\n",
      "28217807\n",
      "84514582\n"
     ]
    }
   ],
   "source": [
    "print(*[filename.split(\".\")[0] for filename in os.listdir(\"./opinions\")], sep=\"\\n\")"
   ]
  },
  {
   "cell_type": "code",
   "execution_count": 4,
   "metadata": {},
   "outputs": [],
   "source": [
    "product_id = input(\"Enter the product code ^^: \")"
   ]
  },
  {
   "cell_type": "code",
   "execution_count": 5,
   "metadata": {},
   "outputs": [
    {
     "data": {
      "text/html": [
       "<div>\n",
       "<style scoped>\n",
       "    .dataframe tbody tr th:only-of-type {\n",
       "        vertical-align: middle;\n",
       "    }\n",
       "\n",
       "    .dataframe tbody tr th {\n",
       "        vertical-align: top;\n",
       "    }\n",
       "\n",
       "    .dataframe thead th {\n",
       "        text-align: right;\n",
       "    }\n",
       "</style>\n",
       "<table border=\"1\" class=\"dataframe\">\n",
       "  <thead>\n",
       "    <tr style=\"text-align: right;\">\n",
       "      <th></th>\n",
       "      <th>opinion_id</th>\n",
       "      <th>author</th>\n",
       "      <th>recommendation</th>\n",
       "      <th>stars</th>\n",
       "      <th>content_pl</th>\n",
       "      <th>pros_pl</th>\n",
       "      <th>cons_pl</th>\n",
       "      <th>vote_yes</th>\n",
       "      <th>vote_no</th>\n",
       "      <th>published</th>\n",
       "      <th>purchased</th>\n",
       "      <th>content_en</th>\n",
       "      <th>pros_en</th>\n",
       "      <th>cons_en</th>\n",
       "    </tr>\n",
       "  </thead>\n",
       "  <tbody>\n",
       "    <tr>\n",
       "      <th>0</th>\n",
       "      <td>17488222</td>\n",
       "      <td>e...1</td>\n",
       "      <td>NaN</td>\n",
       "      <td>3.5</td>\n",
       "      <td>Dzień dobry.Zakupiłam z firmy Janshop dwie ław...</td>\n",
       "      <td>[jakość, trwałość, wygoda]</td>\n",
       "      <td>[]</td>\n",
       "      <td>2</td>\n",
       "      <td>1</td>\n",
       "      <td>2023-05-09 12:42:56</td>\n",
       "      <td>2023-04-22 11:22:32</td>\n",
       "      <td>Good morning. I made two benches from Janshop ...</td>\n",
       "      <td>[quality, durability, convenience]</td>\n",
       "      <td>[]</td>\n",
       "    </tr>\n",
       "    <tr>\n",
       "      <th>1</th>\n",
       "      <td>17129934</td>\n",
       "      <td>i...1</td>\n",
       "      <td>1.0</td>\n",
       "      <td>4.0</td>\n",
       "      <td>Jakość akceptowalna . Poprzednia plandeka ( 2x...</td>\n",
       "      <td>[]</td>\n",
       "      <td>[]</td>\n",
       "      <td>0</td>\n",
       "      <td>0</td>\n",
       "      <td>2023-02-10 12:25:33</td>\n",
       "      <td>2023-01-17 17:22:17</td>\n",
       "      <td>Acceptable quality. The previous tarpaulin (2x...</td>\n",
       "      <td>[]</td>\n",
       "      <td>[]</td>\n",
       "    </tr>\n",
       "    <tr>\n",
       "      <th>2</th>\n",
       "      <td>17646962</td>\n",
       "      <td>Kamil</td>\n",
       "      <td>1.0</td>\n",
       "      <td>5.0</td>\n",
       "      <td>Lekki i solidny stojak, bez problemu utrzymał ...</td>\n",
       "      <td>[jakość, trwałość, wygoda]</td>\n",
       "      <td>[]</td>\n",
       "      <td>0</td>\n",
       "      <td>0</td>\n",
       "      <td>2023-06-26 11:14:12</td>\n",
       "      <td>2023-06-12 22:41:46</td>\n",
       "      <td>A light and solid stand, he easily kept a pers...</td>\n",
       "      <td>[quality, durability, convenience]</td>\n",
       "      <td>[]</td>\n",
       "    </tr>\n",
       "    <tr>\n",
       "      <th>3</th>\n",
       "      <td>17537245</td>\n",
       "      <td>p...3</td>\n",
       "      <td>1.0</td>\n",
       "      <td>5.0</td>\n",
       "      <td>Osobiście kupowałem drążek wielofunkcyjny mont...</td>\n",
       "      <td>[]</td>\n",
       "      <td>[]</td>\n",
       "      <td>0</td>\n",
       "      <td>0</td>\n",
       "      <td>2023-05-23 12:12:33</td>\n",
       "      <td>2023-05-09 07:44:57</td>\n",
       "      <td>Personally, I bought a multifunctional rod mou...</td>\n",
       "      <td>[]</td>\n",
       "      <td>[]</td>\n",
       "    </tr>\n",
       "    <tr>\n",
       "      <th>4</th>\n",
       "      <td>15369821</td>\n",
       "      <td>Marcin</td>\n",
       "      <td>1.0</td>\n",
       "      <td>5.0</td>\n",
       "      <td>Ok nie mam tego produktu ani nie kupowałem, al...</td>\n",
       "      <td>[]</td>\n",
       "      <td>[]</td>\n",
       "      <td>3</td>\n",
       "      <td>0</td>\n",
       "      <td>2021-12-15 13:24:53</td>\n",
       "      <td>2021-12-01 10:56:13</td>\n",
       "      <td>Ok I don't have this product or bought it, but...</td>\n",
       "      <td>[]</td>\n",
       "      <td>[]</td>\n",
       "    </tr>\n",
       "    <tr>\n",
       "      <th>...</th>\n",
       "      <td>...</td>\n",
       "      <td>...</td>\n",
       "      <td>...</td>\n",
       "      <td>...</td>\n",
       "      <td>...</td>\n",
       "      <td>...</td>\n",
       "      <td>...</td>\n",
       "      <td>...</td>\n",
       "      <td>...</td>\n",
       "      <td>...</td>\n",
       "      <td>...</td>\n",
       "      <td>...</td>\n",
       "      <td>...</td>\n",
       "      <td>...</td>\n",
       "    </tr>\n",
       "    <tr>\n",
       "      <th>99</th>\n",
       "      <td>17998495</td>\n",
       "      <td>p...e</td>\n",
       "      <td>0.0</td>\n",
       "      <td>0.5</td>\n",
       "      <td>nie to kupiłem lecz regał metalowy</td>\n",
       "      <td>[]</td>\n",
       "      <td>[]</td>\n",
       "      <td>0</td>\n",
       "      <td>1</td>\n",
       "      <td>2023-10-13 09:59:57</td>\n",
       "      <td>2023-09-22 11:41:32</td>\n",
       "      <td>I didn't buy it but a metal shelf</td>\n",
       "      <td>[]</td>\n",
       "      <td>[]</td>\n",
       "    </tr>\n",
       "    <tr>\n",
       "      <th>100</th>\n",
       "      <td>17908673</td>\n",
       "      <td>b...a</td>\n",
       "      <td>0.0</td>\n",
       "      <td>1.0</td>\n",
       "      <td>Dalej czekam na produkt</td>\n",
       "      <td>[]</td>\n",
       "      <td>[jakość, trwałość, wygoda]</td>\n",
       "      <td>0</td>\n",
       "      <td>0</td>\n",
       "      <td>2023-09-16 20:51:02</td>\n",
       "      <td>2023-08-17 15:33:14</td>\n",
       "      <td>I am still waiting for the product</td>\n",
       "      <td>[]</td>\n",
       "      <td>[quality, durability, convenience]</td>\n",
       "    </tr>\n",
       "    <tr>\n",
       "      <th>101</th>\n",
       "      <td>15253540</td>\n",
       "      <td>Użytkownik Ceneo</td>\n",
       "      <td>0.0</td>\n",
       "      <td>0.5</td>\n",
       "      <td>Nic takiego nie kupowałem....</td>\n",
       "      <td>[]</td>\n",
       "      <td>[]</td>\n",
       "      <td>0</td>\n",
       "      <td>1</td>\n",
       "      <td>2021-11-24 16:20:03</td>\n",
       "      <td>2021-11-09 16:28:11</td>\n",
       "      <td>I didn't buy anything like that ....</td>\n",
       "      <td>[]</td>\n",
       "      <td>[]</td>\n",
       "    </tr>\n",
       "    <tr>\n",
       "      <th>102</th>\n",
       "      <td>18189031</td>\n",
       "      <td>b...o</td>\n",
       "      <td>0.0</td>\n",
       "      <td>1.0</td>\n",
       "      <td>nie wiem, nie kupowalam tego</td>\n",
       "      <td>[]</td>\n",
       "      <td>[]</td>\n",
       "      <td>0</td>\n",
       "      <td>1</td>\n",
       "      <td>2023-12-08 10:51:09</td>\n",
       "      <td>2023-11-26 15:01:05</td>\n",
       "      <td>I don't know, I didn't buy it</td>\n",
       "      <td>[]</td>\n",
       "      <td>[]</td>\n",
       "    </tr>\n",
       "    <tr>\n",
       "      <th>103</th>\n",
       "      <td>17708783</td>\n",
       "      <td>l...l</td>\n",
       "      <td>0.0</td>\n",
       "      <td>0.5</td>\n",
       "      <td>Kicha</td>\n",
       "      <td>[]</td>\n",
       "      <td>[]</td>\n",
       "      <td>0</td>\n",
       "      <td>0</td>\n",
       "      <td>2023-07-14 18:18:06</td>\n",
       "      <td>2023-06-14 13:26:19</td>\n",
       "      <td>Sneezing</td>\n",
       "      <td>[]</td>\n",
       "      <td>[]</td>\n",
       "    </tr>\n",
       "  </tbody>\n",
       "</table>\n",
       "<p>104 rows × 14 columns</p>\n",
       "</div>"
      ],
      "text/plain": [
       "     opinion_id            author  recommendation  stars  \\\n",
       "0      17488222             e...1             NaN    3.5   \n",
       "1      17129934             i...1             1.0    4.0   \n",
       "2      17646962             Kamil             1.0    5.0   \n",
       "3      17537245             p...3             1.0    5.0   \n",
       "4      15369821            Marcin             1.0    5.0   \n",
       "..          ...               ...             ...    ...   \n",
       "99     17998495             p...e             0.0    0.5   \n",
       "100    17908673             b...a             0.0    1.0   \n",
       "101    15253540  Użytkownik Ceneo             0.0    0.5   \n",
       "102    18189031             b...o             0.0    1.0   \n",
       "103    17708783             l...l             0.0    0.5   \n",
       "\n",
       "                                            content_pl  \\\n",
       "0    Dzień dobry.Zakupiłam z firmy Janshop dwie ław...   \n",
       "1    Jakość akceptowalna . Poprzednia plandeka ( 2x...   \n",
       "2    Lekki i solidny stojak, bez problemu utrzymał ...   \n",
       "3    Osobiście kupowałem drążek wielofunkcyjny mont...   \n",
       "4    Ok nie mam tego produktu ani nie kupowałem, al...   \n",
       "..                                                 ...   \n",
       "99                  nie to kupiłem lecz regał metalowy   \n",
       "100                            Dalej czekam na produkt   \n",
       "101                      Nic takiego nie kupowałem....   \n",
       "102                       nie wiem, nie kupowalam tego   \n",
       "103                                              Kicha   \n",
       "\n",
       "                        pros_pl                     cons_pl  vote_yes  \\\n",
       "0    [jakość, trwałość, wygoda]                          []         2   \n",
       "1                            []                          []         0   \n",
       "2    [jakość, trwałość, wygoda]                          []         0   \n",
       "3                            []                          []         0   \n",
       "4                            []                          []         3   \n",
       "..                          ...                         ...       ...   \n",
       "99                           []                          []         0   \n",
       "100                          []  [jakość, trwałość, wygoda]         0   \n",
       "101                          []                          []         0   \n",
       "102                          []                          []         0   \n",
       "103                          []                          []         0   \n",
       "\n",
       "     vote_no            published            purchased  \\\n",
       "0          1  2023-05-09 12:42:56  2023-04-22 11:22:32   \n",
       "1          0  2023-02-10 12:25:33  2023-01-17 17:22:17   \n",
       "2          0  2023-06-26 11:14:12  2023-06-12 22:41:46   \n",
       "3          0  2023-05-23 12:12:33  2023-05-09 07:44:57   \n",
       "4          0  2021-12-15 13:24:53  2021-12-01 10:56:13   \n",
       "..       ...                  ...                  ...   \n",
       "99         1  2023-10-13 09:59:57  2023-09-22 11:41:32   \n",
       "100        0  2023-09-16 20:51:02  2023-08-17 15:33:14   \n",
       "101        1  2021-11-24 16:20:03  2021-11-09 16:28:11   \n",
       "102        1  2023-12-08 10:51:09  2023-11-26 15:01:05   \n",
       "103        0  2023-07-14 18:18:06  2023-06-14 13:26:19   \n",
       "\n",
       "                                            content_en  \\\n",
       "0    Good morning. I made two benches from Janshop ...   \n",
       "1    Acceptable quality. The previous tarpaulin (2x...   \n",
       "2    A light and solid stand, he easily kept a pers...   \n",
       "3    Personally, I bought a multifunctional rod mou...   \n",
       "4    Ok I don't have this product or bought it, but...   \n",
       "..                                                 ...   \n",
       "99                   I didn't buy it but a metal shelf   \n",
       "100                 I am still waiting for the product   \n",
       "101               I didn't buy anything like that ....   \n",
       "102                      I don't know, I didn't buy it   \n",
       "103                                           Sneezing   \n",
       "\n",
       "                                pros_en                             cons_en  \n",
       "0    [quality, durability, convenience]                                  []  \n",
       "1                                    []                                  []  \n",
       "2    [quality, durability, convenience]                                  []  \n",
       "3                                    []                                  []  \n",
       "4                                    []                                  []  \n",
       "..                                  ...                                 ...  \n",
       "99                                   []                                  []  \n",
       "100                                  []  [quality, durability, convenience]  \n",
       "101                                  []                                  []  \n",
       "102                                  []                                  []  \n",
       "103                                  []                                  []  \n",
       "\n",
       "[104 rows x 14 columns]"
      ]
     },
     "execution_count": 5,
     "metadata": {},
     "output_type": "execute_result"
    }
   ],
   "source": [
    "opinions = pd.read_json(f\"./opinions/{product_id}.json\")\n",
    "opinions"
   ]
  },
  {
   "cell_type": "markdown",
   "metadata": {},
   "source": [
    "### Basic statistics"
   ]
  },
  {
   "cell_type": "code",
   "execution_count": 6,
   "metadata": {},
   "outputs": [
    {
     "name": "stdout",
     "output_type": "stream",
     "text": [
      "The number of opinions: 104\n",
      "The number of opinions with listed advantages: 39\n",
      "The number of opinions with listed disadvantages: 2\n",
      "The number of opinions in which both advantages and disadvantages have been listed: 0\n",
      "The average rate of the product: 4.44\n"
     ]
    }
   ],
   "source": [
    "opinions_count = opinions.shape[0]\n",
    "pros_count = opinions.pros_pl.astype(bool).sum()\n",
    "cons_count = opinions.cons_pl.astype(bool).sum()\n",
    "pros_cons_count = opinions.apply(lambda o: o.pros_pl and o.cons_pl, axis=1).astype(bool).sum()\n",
    "average_rate = opinions.stars.mean()\n",
    "\n",
    "print(f\"The number of opinions: {opinions_count}\")\n",
    "print(f\"The number of opinions with listed advantages: {pros_count}\")\n",
    "print(f\"The number of opinions with listed disadvantages: {cons_count}\")\n",
    "print(f\"The number of opinions in which both advantages and disadvantages have been listed: {pros_cons_count}\")\n",
    "print(f\"The average rate of the product: {average_rate:.2f}\")"
   ]
  },
  {
   "cell_type": "code",
   "execution_count": 7,
   "metadata": {},
   "outputs": [
    {
     "name": "stdout",
     "output_type": "stream",
     "text": [
      "pros_en\n",
      "quality        39\n",
      "convenience    39\n",
      "durability     38\n",
      "Name: count, dtype: int64\n",
      "cons_en\n",
      "quality        2\n",
      "durability     2\n",
      "convenience    2\n",
      "Name: count, dtype: int64\n"
     ]
    }
   ],
   "source": [
    "pros = opinions.pros_en.explode().value_counts()\n",
    "cons = opinions.cons_en.explode().value_counts()\n",
    "print(pros)\n",
    "print(cons)"
   ]
  },
  {
   "cell_type": "markdown",
   "metadata": {},
   "source": [
    "### Charts"
   ]
  },
  {
   "cell_type": "code",
   "execution_count": 32,
   "metadata": {},
   "outputs": [],
   "source": [
    "if not os.path.exists(\"./pie_charts\"):\n",
    "    os.mkdir(\"./pie_charts\")\n",
    "if not os.path.exists(\"./bar_charts\"):\n",
    "    os.mkdir(\"./bar_charts\")"
   ]
  },
  {
   "cell_type": "code",
   "execution_count": 8,
   "metadata": {},
   "outputs": [
    {
     "data": {
      "text/plain": [
       "recommendation\n",
       "False    11\n",
       "True     90\n",
       "NaN       3\n",
       "Name: count, dtype: int64"
      ]
     },
     "execution_count": 8,
     "metadata": {},
     "output_type": "execute_result"
    }
   ],
   "source": [
    "recommendation = opinions.recommendation.value_counts(dropna=False).reindex([False, True, np.nan])\n",
    "recommendation"
   ]
  },
  {
   "cell_type": "code",
   "execution_count": 9,
   "metadata": {},
   "outputs": [
    {
     "data": {
      "image/png": "[encoded data removed]",
      "text/plain": [
       "<Figure size 640x480 with 1 Axes>"
      ]
     },
     "metadata": {},
     "output_type": "display_data"
    }
   ],
   "source": [
    "recommendation.plot.pie(\n",
    "    label = \"\",\n",
    "    labels = [\"Not recommended\", \"Recommended\", \"No opinion\"],\n",
    "    colors = [\"rosybrown\", \"sienna\", \"wheat\"],\n",
    "    autopct = lambda v: f\"{v:.1f}%\" if v > 0 else \"\",\n",
    "    title = f\"Share of recommendations in the total number of opinions \\nabout the product {product_id}\"\n",
    ")\n",
    "plt.savefig(f\"/pie_charts/{product_id}.png\")\n",
    "plt.show()"
   ]
  },
  {
   "cell_type": "code",
   "execution_count": 23,
   "metadata": {},
   "outputs": [
    {
     "data": {
      "text/plain": [
       "stars\n",
       "0.0     0\n",
       "0.5     6\n",
       "1.0     5\n",
       "1.5     0\n",
       "2.0     0\n",
       "2.5     0\n",
       "3.0     0\n",
       "3.5     3\n",
       "4.0     2\n",
       "4.5     9\n",
       "5.0    79\n",
       "Name: count, dtype: int64"
      ]
     },
     "execution_count": 23,
     "metadata": {},
     "output_type": "execute_result"
    }
   ],
   "source": [
    "stars = opinions.stars.value_counts().reindex(list(np.arange(0,5.5,0.5)), fill_value=0)\n",
    "stars"
   ]
  },
  {
   "cell_type": "code",
   "execution_count": 31,
   "metadata": {},
   "outputs": [
    {
     "data": {
      "image/png": "[encoded data removed]",
      "text/plain": [
       "<Figure size 640x480 with 1 Axes>"
      ]
     },
     "metadata": {},
     "output_type": "display_data"
    }
   ],
   "source": [
    "ax = stars.plot.bar(\n",
    "    xlabel = \"Rate (number of stars in range 0 to 5)\",\n",
    "    ylabel = \"Count of rates (number of opinions)\",\n",
    "    title = f\"Number of opinions about the product {product_id}\\nwith certain amount of stars assigned\",\n",
    "    color = [\"rosybrown\" if x<3 else \"sienna\" if x>3.5 else \"wheat\" for x in stars.index]\n",
    ")\n",
    "plt.xticks(rotation=0)\n",
    "plt.bar_label(container=ax.containers[0])\n",
    "plt.savefig(f\"/bar_charts/{product_id}.png\")\n",
    "plt.show()"
   ]
  }
 ],
 "metadata": {
  "kernelspec": {
   "display_name": ".venv",
   "language": "python",
   "name": "python3"
  },
  "language_info": {
   "codemirror_mode": {
    "name": "ipython",
    "version": 3
   },
   "file_extension": ".py",
   "mimetype": "text/x-python",
   "name": "python",
   "nbconvert_exporter": "python",
   "pygments_lexer": "ipython3",
   "version": "3.11.4"
  }
 },
 "nbformat": 4,
 "nbformat_minor": 2
}
