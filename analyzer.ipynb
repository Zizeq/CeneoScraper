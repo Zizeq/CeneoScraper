{
 "cells": [
  {
   "cell_type": "markdown",
   "metadata": {},
   "source": [
    "### Imports\n"
   ]
  },
  {
   "cell_type": "code",
   "execution_count": 2,
   "metadata": {},
   "outputs": [],
   "source": [
    "import os\n",
    "import pandas as pd\n",
    "import numpy as np\n",
    "from matplotlib import pyplot as plt"
   ]
  },
  {
   "cell_type": "markdown",
   "metadata": {},
   "source": [
    "### Import from .json files"
   ]
  },
  {
   "cell_type": "code",
   "execution_count": null,
   "metadata": {},
   "outputs": [],
   "source": [
    "print(*[filename.split(\".\")[0] for filename in os.listdir(\"./opinions\")], sep=\"\\n\")"
   ]
  },
  {
   "cell_type": "code",
   "execution_count": 4,
   "metadata": {},
   "outputs": [],
   "source": [
    "product_id = input(\"Enter the product code ^^: \")"
   ]
  },
  {
   "cell_type": "code",
   "execution_count": null,
   "metadata": {},
   "outputs": [],
   "source": [
    "opinions = pd.read_json(f\"./opinions/{product_id}.json\")\n",
    "opinions"
   ]
  },
  {
   "cell_type": "markdown",
   "metadata": {},
   "source": [
    "### Basic statistics"
   ]
  },
  {
   "cell_type": "code",
   "execution_count": null,
   "metadata": {},
   "outputs": [],
   "source": [
    "opinions_count = opinions.shape[0]\n",
    "pros_count = opinions.pros_pl.astype(bool).sum()\n",
    "cons_count = opinions.cons_pl.astype(bool).sum()\n",
    "pros_cons_count = opinions.apply(lambda o: o.pros_pl and o.cons_pl, axis=1).astype(bool).sum()\n",
    "average_rate = opinions.stars.mean()\n",
    "\n",
    "print(f\"The number of opinions: {opinions_count}\")\n",
    "print(f\"The number of opinions with listed advantages: {pros_count}\")\n",
    "print(f\"The number of opinions with listed disadvantages: {cons_count}\")\n",
    "print(f\"The number of opinions in which both advantages and disadvantages have been listed: {pros_cons_count}\")\n",
    "print(f\"The average rate of the product: {average_rate:.2f}\")"
   ]
  },
  {
   "cell_type": "code",
   "execution_count": null,
   "metadata": {},
   "outputs": [],
   "source": [
    "pros = opinions.pros_en.explode().value_counts()\n",
    "cons = opinions.cons_en.explode().value_counts()\n",
    "print(pros)\n",
    "print(cons)"
   ]
  },
  {
   "cell_type": "markdown",
   "metadata": {},
   "source": [
    "### Charts"
   ]
  },
  {
   "cell_type": "code",
   "execution_count": 32,
   "metadata": {},
   "outputs": [],
   "source": [
    "if not os.path.exists(\"./pie_charts\"):\n",
    "    os.mkdir(\"./pie_charts\")\n",
    "if not os.path.exists(\"./bar_charts\"):\n",
    "    os.mkdir(\"./bar_charts\")"
   ]
  },
  {
   "cell_type": "code",
   "execution_count": null,
   "metadata": {},
   "outputs": [],
   "source": [
    "recommendation = opinions.recommendation.value_counts(dropna=False).reindex([False, True, np.nan])\n",
    "recommendation"
   ]
  },
  {
   "cell_type": "code",
   "execution_count": null,
   "metadata": {},
   "outputs": [],
   "source": [
    "recommendation.plot.pie(\n",
    "    label = \"\",\n",
    "    labels = [\"Not recommended\", \"Recommended\", \"No opinion\"],\n",
    "    colors = [\"rosybrown\", \"sienna\", \"wheat\"],\n",
    "    autopct = lambda v: f\"{v:.1f}%\" if v > 0 else \"\",\n",
    "    title = f\"Share of recommendations in the total number of opinions \\nabout the product {product_id}\"\n",
    ")\n",
    "plt.savefig(f\"./pie_charts/{product_id}.png\")\n",
    "plt.show()"
   ]
  },
  {
   "cell_type": "code",
   "execution_count": null,
   "metadata": {},
   "outputs": [],
   "source": [
    "stars = opinions.stars.value_counts().reindex(list(np.arange(0,5.5,0.5)), fill_value=0)\n",
    "stars"
   ]
  },
  {
   "cell_type": "code",
   "execution_count": null,
   "metadata": {},
   "outputs": [],
   "source": [
    "ax = stars.plot.bar(\n",
    "    xlabel = \"Rate (number of stars in range 0 to 5)\",\n",
    "    ylabel = \"Count of rates (number of opinions)\",\n",
    "    title = f\"Number of opinions about the product {product_id}\\nwith certain amount of stars assigned\",\n",
    "    color = [\"rosybrown\" if x<3 else \"sienna\" if x>3.5 else \"wheat\" for x in stars.index]\n",
    ")\n",
    "plt.xticks(rotation=0)\n",
    "plt.bar_label(container=ax.containers[0])\n",
    "plt.savefig(f\"./bar_charts/{product_id}.png\")\n",
    "plt.show()"
   ]
  }
 ],
 "metadata": {
  "kernelspec": {
   "display_name": ".venv",
   "language": "python",
   "name": "python3"
  },
  "language_info": {
   "codemirror_mode": {
    "name": "ipython",
    "version": 3
   },
   "file_extension": ".py",
   "mimetype": "text/x-python",
   "name": "python",
   "nbconvert_exporter": "python",
   "pygments_lexer": "ipython3",
   "version": "3.11.4"
  }
 },
 "nbformat": 4,
 "nbformat_minor": 2
}
